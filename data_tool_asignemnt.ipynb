{
  "nbformat": 4,
  "nbformat_minor": 0,
  "metadata": {
    "colab": {
      "provenance": []
    },
    "kernelspec": {
      "name": "python3",
      "display_name": "Python 3"
    },
    "language_info": {
      "name": "python"
    }
  },
  "cells": [
    {
      "cell_type": "markdown",
      "source": [
        "#DATA TOOL ASSIGENMENT"
      ],
      "metadata": {
        "id": "oGNMqgbtdQuj"
      }
    },
    {
      "cell_type": "markdown",
      "source": [
        "##THEORY QUESTIONS:"
      ],
      "metadata": {
        "id": "pljOFtjEdWSq"
      }
    },
    {
      "cell_type": "markdown",
      "source": [
        "Q1-What is numPy, and why is it widely used in python?"
      ],
      "metadata": {
        "id": "8kdOKUX5dcBu"
      }
    },
    {
      "cell_type": "markdown",
      "source": [
        "A1-NumPy (Numerical Python) is a powerful Python library for numerical computing. It provides support for:\n",
        "\n",
        "Multidimensional arrays (ndarrays) – Efficient storage & manipulation of large datasets.\n",
        "\n",
        "Mathematical functions – Optimized operations (linear algebra, Fourier transforms, statistics, etc.).\n",
        "\n",
        "Speed & Performance – Built in C, making it much faster than native Python lists.\n",
        "\n",
        "NumPy (Numerical Python) is a powerful Python library for numerical computing. It provides support for:\n",
        "\n",
        "Multidimensional arrays (ndarrays) – Efficient storage & manipulation of large datasets.\n",
        "\n",
        "Mathematical functions – Optimized operations (linear algebra, Fourier transforms, statistics, etc.).\n",
        "\n",
        "Speed & Performance – Built in C, making it much faster than native Python lists.\n",
        "\n"
      ],
      "metadata": {
        "id": "isX8cbJ0dqJe"
      }
    },
    {
      "cell_type": "markdown",
      "source": [
        "Q2-How does broadcasting work in numpy?"
      ],
      "metadata": {
        "id": "pqiCAQheeqbp"
      }
    },
    {
      "cell_type": "markdown",
      "source": [
        "A2-Broadcasting is a powerful NumPy feature that allows arithmetic operations between arrays of different shapes by automatically expanding smaller arrays to match larger ones without copying data."
      ],
      "metadata": {
        "id": "I1BqRUeGe2Ol"
      }
    },
    {
      "cell_type": "markdown",
      "source": [
        "Q3-What is a Pandas DataFrame?"
      ],
      "metadata": {
        "id": "cXdy91AmfJki"
      }
    },
    {
      "cell_type": "markdown",
      "source": [
        "A3-A Pandas DataFrame is a 2-dimensional labeled table used for storing and manipulating data in Python. You can think of it like an Excel spreadsheet or a SQL table—with rows and columns, where each column can have a different data type (integers, strings, dates, etc.)."
      ],
      "metadata": {
        "id": "pfThHu7-fWFc"
      }
    },
    {
      "cell_type": "markdown",
      "source": [
        "Q4-Explain the use of the groupby() method in pandas?"
      ],
      "metadata": {
        "id": "3WDAcPDEfdC9"
      }
    },
    {
      "cell_type": "markdown",
      "source": [
        "A4-The groupby() method in Pandas is super useful when you want to group your data based on one or more columns, and then perform operations like sum, mean, count, etc., on each group.\n",
        "\n"
      ],
      "metadata": {
        "id": "sjoVUuMzfo7e"
      }
    },
    {
      "cell_type": "markdown",
      "source": [
        "Q5-Why is Seaborn preferred for statistical visualizations?"
      ],
      "metadata": {
        "id": "C8p2kkJIfzCt"
      }
    },
    {
      "cell_type": "markdown",
      "source": [
        "A5-Seaborn is a popular data visualization library in Python that's built on top of Matplotlib. It's specifically designed to make statistical visualizations easier and more beautiful."
      ],
      "metadata": {
        "id": "kZKzmS2SgXhr"
      }
    },
    {
      "cell_type": "markdown",
      "source": [
        "Q6-What are the differences between NumPy arrays and python lists?"
      ],
      "metadata": {
        "id": "dU32JjVYgp9n"
      }
    },
    {
      "cell_type": "markdown",
      "source": [
        "A6--NumPy Array: Best for numerical and scientific computing, supports advanced mathematical operations, and is highly efficient. Python List: More versatile and flexible, suitable for general purposes, supports heterogeneous elements, but less efficient for numerical operations."
      ],
      "metadata": {
        "id": "iESdh8oOg4a0"
      }
    },
    {
      "cell_type": "markdown",
      "source": [
        "Q7-What is heatmap, and when should it be used?"
      ],
      "metadata": {
        "id": "sf08dcsHiBj7"
      }
    },
    {
      "cell_type": "markdown",
      "source": [
        "A7- A heatmap is a data visualization technique that uses color variations to represent the magnitude of individual values in a dataset. It's particularly useful for showing patterns and correlations in large, complex datasets, making it easier to identify hotspots and trends. Heatmaps are commonly used in fields like website analytics, biology, and social sciences.\n",
        "When to use a heatmap:\n",
        "Data Visualization: When you have a large dataset with two or more variables and want to quickly grasp patterns and correlations.\n",
        "Website/App Optimization: To understand how users interact with a website or app, such as where they click, scroll, or hover."
      ],
      "metadata": {
        "id": "iCnuUszjidbR"
      }
    },
    {
      "cell_type": "markdown",
      "source": [
        "Q8-What does the term \"vectorized operation\" mean in NumPY ?"
      ],
      "metadata": {
        "id": "6B7g1nAnih5c"
      }
    },
    {
      "cell_type": "markdown",
      "source": [
        "A8-In NumPy, a vectorized operation refers to performing an operation on entire arrays (or array sections) instead of processing individual elements sequentially using loops. This approach leverages optimized, pre-compiled C or Fortran code under the hood, resulting in significantly faster execution times, especially for large datasets. Vectorization is a core concept in NumPy and is fundamental to its efficiency. It allows for concise and readable code while maximizing performance."
      ],
      "metadata": {
        "id": "u86HAWKciyZK"
      }
    },
    {
      "cell_type": "markdown",
      "source": [
        "Q9-How does Matplotib differ from Plotly?"
      ],
      "metadata": {
        "id": "bgmrXV7gGk44"
      }
    },
    {
      "cell_type": "markdown",
      "source": [
        "A9-If you need highly customizable, static visualizations for reports, papers, or non-interactive mediums, 🎯 Matplotlib is your go-to. If you're building interactive dashboards or web applications and want to quickly generate interactive plots, ✨ Plotly Express is your friend."
      ],
      "metadata": {
        "id": "HNdL87MeHNr1"
      }
    },
    {
      "cell_type": "markdown",
      "source": [
        "Q10-What is the significance of hierarchical indexing in pandas?"
      ],
      "metadata": {
        "id": "z4HUUI7oHhGq"
      }
    },
    {
      "cell_type": "markdown",
      "source": [
        "A10-Hierarchical indexing (also called MultiIndexing) allows you to have multiple levels of indexes on rows (and/or columns). This makes it possible to work with higher-dimensional data in a lower-dimensional (2D) DataFrame.\n",
        "\n"
      ],
      "metadata": {
        "id": "DfX5UK6dHxTZ"
      }
    },
    {
      "cell_type": "markdown",
      "source": [
        "Q11-What is the role of seaborn's pairplot() function?"
      ],
      "metadata": {
        "id": "cdOi5QxfH_Dk"
      }
    },
    {
      "cell_type": "markdown",
      "source": [
        "A11-seaborn.pairplot() creates a grid of scatter plots and histograms to show pairwise relationships between variables in a dataset. It’s super useful for exploratory data analysis (EDA)."
      ],
      "metadata": {
        "id": "WG5na_jxIPkV"
      }
    },
    {
      "cell_type": "markdown",
      "source": [
        "Q12-What is the purpose of the describe() function in pandas?"
      ],
      "metadata": {
        "id": "eMooCiCWIada"
      }
    },
    {
      "cell_type": "markdown",
      "source": [
        "A12-The describe() function in pandas is used to generate summary statistics of a DataFrame or Series."
      ],
      "metadata": {
        "id": "FAlIGbhEImSd"
      }
    },
    {
      "cell_type": "markdown",
      "source": [
        "Q13-Why is handling missing data important in pandas?"
      ],
      "metadata": {
        "id": "QhIgWdLhIzST"
      }
    },
    {
      "cell_type": "markdown",
      "source": [
        "A13-Handling missing data in pandas is crucial because it directly impacts the accuracy and reliability of data analysis and modeling. Missing data, often represented as NaN (Not a Number) in pandas, can arise from various sources, such as data entry errors, incomplete records, or system failures. If left unaddressed, it can lead to several problems:"
      ],
      "metadata": {
        "id": "ONsqImZDI_xz"
      }
    },
    {
      "cell_type": "markdown",
      "source": [
        "Q14-What are the benefits of using plotly for data visualization?"
      ],
      "metadata": {
        "id": "9L9404iNJhqD"
      }
    },
    {
      "cell_type": "markdown",
      "source": [
        "A14-Plotly offers several advantages for data visualization, including its ease of use, interactive features, wide range of chart types, and customization options. It allows for the creation of engaging visualizations that can be shared online or embedded in web applications. Additionally, Plotly excels at detecting outliers in large datasets and is well-suited for conveying insights from data."
      ],
      "metadata": {
        "id": "Ngme5YZqJuw4"
      }
    },
    {
      "cell_type": "markdown",
      "source": [
        "Q15-How does numpy handle multidimentional arrays?"
      ],
      "metadata": {
        "id": "gRXOjPAUJ6-_"
      }
    },
    {
      "cell_type": "markdown",
      "source": [
        "A15-NumPy handles multidimensional arrays using a powerful object called a ndarray (short for N-dimensional array). These arrays can have any number of dimensions, from 1D (vectors) to 2D (matrices), 3D, and beyond."
      ],
      "metadata": {
        "id": "g0SgkwuIKHRC"
      }
    },
    {
      "cell_type": "markdown",
      "source": [
        "Q16-What is the role of bokeh in data visualization?"
      ],
      "metadata": {
        "id": "pW1Efw8iKQQG"
      }
    },
    {
      "cell_type": "markdown",
      "source": [
        "A16-Bokeh is a Python library that enables the creation of interactive visualizations for web browsers, offering tools to build beautiful and dynamic charts and dashboards for various data types. It's particularly well-suited for projects involving large, dynamic datasets or those requiring interactive exploration and analysis."
      ],
      "metadata": {
        "id": "pmDblspLKaK5"
      }
    },
    {
      "cell_type": "markdown",
      "source": [
        "Q17-Explain the difference between apply() and map() in pandas?"
      ],
      "metadata": {
        "id": "zFY8GFpRKkUW"
      }
    },
    {
      "cell_type": "markdown",
      "source": [
        "A17-map() and apply() are both used for applying functions to Pandas Series or DataFrames, but they operate differently and are suited for different tasks.\n",
        "map():\n",
        "Works on a Pandas Series, applying a function element-wise.\n",
        "It's ideal for simple one-to-one mappings, where each value in the Series is transformed independently.\n",
        "It accepts a function, a dictionary, or a Series for mapping values.\n",
        "It is faster for element-wise operations on a single column.\n",
        "apply():\n",
        "Can be used on both Series and DataFrames.\n",
        "For Series, it behaves similarly to map(), applying a function element-wise.\n",
        "For DataFrames, it applies a function along an axis (rows or columns).\n",
        "It's more flexible than map() and can handle more complex operations, including those that involve multiple columns or rows.\n",
        "It can be slower than map() for simple element-wise transformations due to its added flexibility."
      ],
      "metadata": {
        "id": "q0QO0fb_KzDr"
      }
    },
    {
      "cell_type": "markdown",
      "source": [
        "Q18-What are some advanced features of numpy?"
      ],
      "metadata": {
        "id": "k2_bsr6VK9RD"
      }
    },
    {
      "cell_type": "markdown",
      "source": [
        "A18-🔸Comprehensive Functionality: Extensive mathematical, statistical, and linear algebra operations. 🔸Ease of Use: It has an Intuitive API and strong integration with other Python libraries. 🔸Advanced Features: Broadcasting, vectorization, and complex array manipulations.9 Mar 2025"
      ],
      "metadata": {
        "id": "EOo_9kqFLHo9"
      }
    },
    {
      "cell_type": "markdown",
      "source": [
        "Q19-How does pandas simplify time series analysis?"
      ],
      "metadata": {
        "id": "qgMjGt_OLYkf"
      }
    },
    {
      "cell_type": "markdown",
      "source": [
        "A19-Pandas streamlines time series analysis through its specialized data structures and functionalities. The Series and DataFrame objects can be indexed by time, enabling intuitive slicing, indexing, and resampling operations. Pandas automatically handles date parsing, and offers tools for handling time zones, calculating rolling statistics, and shifting or lagging data. These features greatly simplify common time series tasks, making analysis more efficient."
      ],
      "metadata": {
        "id": "6sZoU_vsLj8s"
      }
    },
    {
      "cell_type": "markdown",
      "source": [
        "Q20-What is the role of a pivot table in pandas?"
      ],
      "metadata": {
        "id": "zv6T1y0MLvlD"
      }
    },
    {
      "cell_type": "markdown",
      "source": [
        "A20-A pivot table in pandas is used to summarize and reorganize data. It lets you group, aggregate, and restructure your DataFrame in a very flexible way.\n",
        "\n",
        "It’s like the Python version of an Excel pivot table — super powerful for exploratory data analysis.\n",
        "\n"
      ],
      "metadata": {
        "id": "MmCgffexL2jD"
      }
    },
    {
      "cell_type": "markdown",
      "source": [
        "Q21-Why is numpy's array slicing faster than python's list slicing?"
      ],
      "metadata": {
        "id": "GSwJURNCMCg8"
      }
    },
    {
      "cell_type": "markdown",
      "source": [
        "A21-Numpy array slicing is faster than Python list slicing due to several factors:\n",
        "Homogeneous Data Type:\n",
        "NumPy arrays store elements of the same data type, which allows for more efficient memory storage and access. Python lists, on the other hand, can store elements of different data types, requiring additional overhead for type checking and memory management.\n",
        "Contiguous Memory Allocation:\n",
        "NumPy arrays are stored in contiguous memory blocks, meaning elements are located next to each other. This allows for faster access and manipulation of elements, as the program can easily calculate the memory address of any element. Python lists, however, do not guarantee contiguous memory allocation, which can lead to slower access times."
      ],
      "metadata": {
        "id": "lP8N9Bh7MOBK"
      }
    },
    {
      "cell_type": "markdown",
      "source": [
        "Q22-What are some common use cases for seaborn?"
      ],
      "metadata": {
        "id": "or8NIc2EMWBx"
      }
    },
    {
      "cell_type": "markdown",
      "source": [
        "A22-Seaborn is a Python data visualization library built on top of Matplotlib, commonly used for statistical data visualization. Some common use cases for Seaborn include:\n",
        "Exploring relationships between variables:\n",
        "Scatter plots, line plots, and pair plots can be used to visualize the relationships between two or more variables in a dataset.\n",
        "Comparing distributions:\n",
        "Box plots, violin plots, histograms, and KDE plots help compare the distribution of one or more variables, potentially across different categories.\n",
        "Visualizing categorical data:\n",
        "Bar plots, count plots, and swarm plots are useful for visualizing categorical data and comparing the frequencies of different categories.\n",
        "Representing uncertainty:\n",
        "Error bars and confidence intervals can be added to plots to represent the uncertainty in the data."
      ],
      "metadata": {
        "id": "_fT6cQ8LMeBz"
      }
    },
    {
      "cell_type": "markdown",
      "source": [
        "##PRACTICAL QUESTIONS:"
      ],
      "metadata": {
        "id": "yjfWx3-_M0JA"
      }
    },
    {
      "cell_type": "code",
      "source": [
        "#Q1- How do you create a 2D Numpy array and calculate the sum of each row?\n",
        "import numpy as np\n",
        "\n",
        "# Create a 2D NumPy array (3 rows, 4 columns)\n",
        "arr = np.array([[1, 2, 3, 4],\n",
        "                [5, 6, 7, 8],\n",
        "                [9, 10, 11, 12]])\n",
        "\n",
        "print(arr)\n"
      ],
      "metadata": {
        "colab": {
          "base_uri": "https://localhost:8080/"
        },
        "id": "iNG6pGT6M6tr",
        "outputId": "75000e05-bcba-474b-b059-096136ed7ee6"
      },
      "execution_count": null,
      "outputs": [
        {
          "output_type": "stream",
          "name": "stdout",
          "text": [
            "[[ 1  2  3  4]\n",
            " [ 5  6  7  8]\n",
            " [ 9 10 11 12]]\n"
          ]
        }
      ]
    },
    {
      "cell_type": "code",
      "source": [
        "#Q2- Write a pandas script to find the mean of a specific column in a dataframe?\n",
        "import pandas as pd\n",
        "\n",
        "# Create a sample DataFrame\n",
        "data = {\n",
        "    'Name': ['Yash', 'Bharat', 'shubham', 'ayush', 'raj'],\n",
        "    'Age': [25, 30, 35, 40, 45],\n",
        "    'Salary': [50000, 55000, 60000, 65000, 70000]\n",
        "}\n",
        "\n",
        "df = pd.DataFrame(data)\n",
        "print(df)\n"
      ],
      "metadata": {
        "colab": {
          "base_uri": "https://localhost:8080/"
        },
        "id": "C4s_7UvbNN21",
        "outputId": "0ba491e3-cb5d-48e9-e9d7-d2c4359210af"
      },
      "execution_count": null,
      "outputs": [
        {
          "output_type": "stream",
          "name": "stdout",
          "text": [
            "      Name  Age  Salary\n",
            "0     Yash   25   50000\n",
            "1   Bharat   30   55000\n",
            "2  shubham   35   60000\n",
            "3    ayush   40   65000\n",
            "4      raj   45   70000\n"
          ]
        }
      ]
    },
    {
      "cell_type": "code",
      "source": [
        "#Q3- Create a scatter plot using matplotib?\n",
        "import matplotlib.pyplot as plt\n",
        "\n",
        "# Create sample data\n",
        "x = [1, 2, 3, 4, 5]\n",
        "y = [2, 3, 5, 7, 11]\n",
        "\n",
        "# Create a scatter plot\n",
        "plt.scatter(x, y, color='blue', s=100, alpha=0.7, edgecolors='black')\n",
        "\n",
        "# Add titles and labels\n",
        "plt.title('Scatter Plot Example')\n",
        "plt.xlabel('X-axis Label')\n",
        "plt.ylabel('Y-axis Label')\n",
        "\n",
        "# Add grid lines\n",
        "plt.grid(True)\n",
        "\n",
        "# Show the plot\n",
        "plt.show()\n",
        "\n",
        "# Optionally, save the plot to a file\n",
        "plt.savefig('scatter_plot_example.png')\n"
      ],
      "metadata": {
        "colab": {
          "base_uri": "https://localhost:8080/",
          "height": 489
        },
        "id": "xAjM9s5IOArR",
        "outputId": "69b58f01-065c-48e8-8606-639e8c36f4df"
      },
      "execution_count": null,
      "outputs": [
        {
          "output_type": "display_data",
          "data": {
            "text/plain": [
              "<Figure size 640x480 with 1 Axes>"
            ],
            "image/png": "[encoded data removed]"
          },
          "metadata": {}
        },
        {
          "output_type": "display_data",
          "data": {
            "text/plain": [
              "<Figure size 640x480 with 0 Axes>"
            ]
          },
          "metadata": {}
        }
      ]
    },
    {
      "cell_type": "code",
      "source": [
        "#Q4- How do you calculate the correlation matrix using seaborn and visualize iw with a heatmap?\n",
        "import pandas as pd\n",
        "import seaborn as sns\n",
        "import matplotlib.pyplot as plt\n",
        "import numpy as np\n",
        "\n",
        "# Sample DataFrame (replace with your actual data)\n",
        "data = {\n",
        "    'A': np.random.rand(10),\n",
        "    'B': np.random.rand(10),\n",
        "    'C': np.random.rand(10)\n",
        "}\n",
        "df = pd.DataFrame(data)\n",
        "\n",
        "# 1. Calculate the correlation matrix\n",
        "correlation_matrix = df.corr()\n",
        "\n",
        "# 2. Visualize as a heatmap\n",
        "plt.figure(figsize=(8, 6))\n",
        "sns.heatmap(correlation_matrix, annot=True, cmap='coolwarm')\n",
        "plt.title(\"Correlation Matrix Heatmap\")\n",
        "plt.show()"
      ],
      "metadata": {
        "colab": {
          "base_uri": "https://localhost:8080/",
          "height": 545
        },
        "id": "s-E__rGDOYvc",
        "outputId": "12ba5cdb-52a0-4ce5-c3a6-e120160b4ab5"
      },
      "execution_count": null,
      "outputs": [
        {
          "output_type": "display_data",
          "data": {
            "text/plain": [
              "<Figure size 800x600 with 2 Axes>"
            ],
            "image/png": "[encoded data removed]"
          },
          "metadata": {}
        }
      ]
    },
    {
      "cell_type": "code",
      "source": [
        "#Q5- Generate a bar plot using plotly?\n",
        "import plotly.graph_objects as go\n",
        "\n",
        "# Data for the bar plot\n",
        "categories = ['Category 1', 'Category 2', 'Category 3', 'Category 4', 'Category 5']\n",
        "values = [10, 15, 7, 20, 13]\n",
        "\n",
        "# Create the bar plot\n",
        "fig = go.Figure(data=[go.Bar(x=categories, y=values)])\n",
        "\n",
        "# Update the layout\n",
        "fig.update_layout(title='Bar Plot Example', xaxis_title='Categories', yaxis_title='Values')\n",
        "\n",
        "# Show the plot\n",
        "fig.show()\n"
      ],
      "metadata": {
        "colab": {
          "base_uri": "https://localhost:8080/",
          "height": 542
        },
        "id": "LmJO2ZV-QE7r",
        "outputId": "19a20e27-b2c3-44e0-eb1a-3a952def3fb7"
      },
      "execution_count": null,
      "outputs": [
        {
          "output_type": "display_data",
          "data": {
            "text/html": [
              "<html>\n",
              "<head><meta charset=\"utf-8\" /></head>\n",
              "<body>\n",
              "    <div>            <script src=\"https://cdnjs.cloudflare.com/ajax/libs/mathjax/2.7.5/MathJax.js?config=TeX-AMS-MML_SVG\"></script><script type=\"text/javascript\">if (window.MathJax && window.MathJax.Hub && window.MathJax.Hub.Config) {window.MathJax.Hub.Config({SVG: {font: \"STIX-Web\"}});}</script>                <script type=\"text/javascript\">window.PlotlyConfig = {MathJaxConfig: 'local'};</script>\n",
              "        <script charset=\"utf-8\" src=\"https://cdn.plot.ly/plotly-2.35.2.min.js\"></script>                <div id=\"a2e6d152-26a9-4d12-9d4a-3980774549b6\" class=\"plotly-graph-div\" style=\"height:525px; width:100%;\"></div>            <script type=\"text/javascript\">                                    window.PLOTLYENV=window.PLOTLYENV || {};                                    if (document.getElementById(\"a2e6d152-26a9-4d12-9d4a-3980774549b6\")) {                    Plotly.newPlot(                        \"a2e6d152-26a9-4d12-9d4a-3980774549b6\",                        [{\"x\":[\"Category 1\",\"Category 2\",\"Category 3\",\"Category 4\",\"Category 5\"],\"y\":[10,15,7,20,13],\"type\":\"bar\"}],                        {\"template\":{\"data\":{\"histogram2dcontour\":[{\"type\":\"histogram2dcontour\",\"colorbar\":{\"outlinewidth\":0,\"ticks\":\"\"},\"colorscale\":[[0.0,\"#0d0887\"],[0.1111111111111111,\"#46039f\"],[0.2222222222222222,\"#7201a8\"],[0.3333333333333333,\"#9c179e\"],[0.4444444444444444,\"#bd3786\"],[0.5555555555555556,\"#d8576b\"],[0.6666666666666666,\"#ed7953\"],[0.7777777777777778,\"#fb9f3a\"],[0.8888888888888888,\"#fdca26\"],[1.0,\"#f0f921\"]]}],\"choropleth\":[{\"type\":\"choropleth\",\"colorbar\":{\"outlinewidth\":0,\"ticks\":\"\"}}],\"histogram2d\":[{\"type\":\"histogram2d\",\"colorbar\":{\"outlinewidth\":0,\"ticks\":\"\"},\"colorscale\":[[0.0,\"#0d0887\"],[0.1111111111111111,\"#46039f\"],[0.2222222222222222,\"#7201a8\"],[0.3333333333333333,\"#9c179e\"],[0.4444444444444444,\"#bd3786\"],[0.5555555555555556,\"#d8576b\"],[0.6666666666666666,\"#ed7953\"],[0.7777777777777778,\"#fb9f3a\"],[0.8888888888888888,\"#fdca26\"],[1.0,\"#f0f921\"]]}],\"heatmap\":[{\"type\":\"heatmap\",\"colorbar\":{\"outlinewidth\":0,\"ticks\":\"\"},\"colorscale\":[[0.0,\"#0d0887\"],[0.1111111111111111,\"#46039f\"],[0.2222222222222222,\"#7201a8\"],[0.3333333333333333,\"#9c179e\"],[0.4444444444444444,\"#bd3786\"],[0.5555555555555556,\"#d8576b\"],[0.6666666666666666,\"#ed7953\"],[0.7777777777777778,\"#fb9f3a\"],[0.8888888888888888,\"#fdca26\"],[1.0,\"#f0f921\"]]}],\"heatmapgl\":[{\"type\":\"heatmapgl\",\"colorbar\":{\"outlinewidth\":0,\"ticks\":\"\"},\"colorscale\":[[0.0,\"#0d0887\"],[0.1111111111111111,\"#46039f\"],[0.2222222222222222,\"#7201a8\"],[0.3333333333333333,\"#9c179e\"],[0.4444444444444444,\"#bd3786\"],[0.5555555555555556,\"#d8576b\"],[0.6666666666666666,\"#ed7953\"],[0.7777777777777778,\"#fb9f3a\"],[0.8888888888888888,\"#fdca26\"],[1.0,\"#f0f921\"]]}],\"contourcarpet\":[{\"type\":\"contourcarpet\",\"colorbar\":{\"outlinewidth\":0,\"ticks\":\"\"}}],\"contour\":[{\"type\":\"contour\",\"colorbar\":{\"outlinewidth\":0,\"ticks\":\"\"},\"colorscale\":[[0.0,\"#0d0887\"],[0.1111111111111111,\"#46039f\"],[0.2222222222222222,\"#7201a8\"],[0.3333333333333333,\"#9c179e\"],[0.4444444444444444,\"#bd3786\"],[0.5555555555555556,\"#d8576b\"],[0.6666666666666666,\"#ed7953\"],[0.7777777777777778,\"#fb9f3a\"],[0.8888888888888888,\"#fdca26\"],[1.0,\"#f0f921\"]]}],\"surface\":[{\"type\":\"surface\",\"colorbar\":{\"outlinewidth\":0,\"ticks\":\"\"},\"colorscale\":[[0.0,\"#0d0887\"],[0.1111111111111111,\"#46039f\"],[0.2222222222222222,\"#7201a8\"],[0.3333333333333333,\"#9c179e\"],[0.4444444444444444,\"#bd3786\"],[0.5555555555555556,\"#d8576b\"],[0.6666666666666666,\"#ed7953\"],[0.7777777777777778,\"#fb9f3a\"],[0.8888888888888888,\"#fdca26\"],[1.0,\"#f0f921\"]]}],\"mesh3d\":[{\"type\":\"mesh3d\",\"colorbar\":{\"outlinewidth\":0,\"ticks\":\"\"}}],\"scatter\":[{\"fillpattern\":{\"fillmode\":\"overlay\",\"size\":10,\"solidity\":0.2},\"type\":\"scatter\"}],\"parcoords\":[{\"type\":\"parcoords\",\"line\":{\"colorbar\":{\"outlinewidth\":0,\"ticks\":\"\"}}}],\"scatterpolargl\":[{\"type\":\"scatterpolargl\",\"marker\":{\"colorbar\":{\"outlinewidth\":0,\"ticks\":\"\"}}}],\"bar\":[{\"error_x\":{\"color\":\"#2a3f5f\"},\"error_y\":{\"color\":\"#2a3f5f\"},\"marker\":{\"line\":{\"color\":\"#E5ECF6\",\"width\":0.5},\"pattern\":{\"fillmode\":\"overlay\",\"size\":10,\"solidity\":0.2}},\"type\":\"bar\"}],\"scattergeo\":[{\"type\":\"scattergeo\",\"marker\":{\"colorbar\":{\"outlinewidth\":0,\"ticks\":\"\"}}}],\"scatterpolar\":[{\"type\":\"scatterpolar\",\"marker\":{\"colorbar\":{\"outlinewidth\":0,\"ticks\":\"\"}}}],\"histogram\":[{\"marker\":{\"pattern\":{\"fillmode\":\"overlay\",\"size\":10,\"solidity\":0.2}},\"type\":\"histogram\"}],\"scattergl\":[{\"type\":\"scattergl\",\"marker\":{\"colorbar\":{\"outlinewidth\":0,\"ticks\":\"\"}}}],\"scatter3d\":[{\"type\":\"scatter3d\",\"line\":{\"colorbar\":{\"outlinewidth\":0,\"ticks\":\"\"}},\"marker\":{\"colorbar\":{\"outlinewidth\":0,\"ticks\":\"\"}}}],\"scattermapbox\":[{\"type\":\"scattermapbox\",\"marker\":{\"colorbar\":{\"outlinewidth\":0,\"ticks\":\"\"}}}],\"scatterternary\":[{\"type\":\"scatterternary\",\"marker\":{\"colorbar\":{\"outlinewidth\":0,\"ticks\":\"\"}}}],\"scattercarpet\":[{\"type\":\"scattercarpet\",\"marker\":{\"colorbar\":{\"outlinewidth\":0,\"ticks\":\"\"}}}],\"carpet\":[{\"aaxis\":{\"endlinecolor\":\"#2a3f5f\",\"gridcolor\":\"white\",\"linecolor\":\"white\",\"minorgridcolor\":\"white\",\"startlinecolor\":\"#2a3f5f\"},\"baxis\":{\"endlinecolor\":\"#2a3f5f\",\"gridcolor\":\"white\",\"linecolor\":\"white\",\"minorgridcolor\":\"white\",\"startlinecolor\":\"#2a3f5f\"},\"type\":\"carpet\"}],\"table\":[{\"cells\":{\"fill\":{\"color\":\"#EBF0F8\"},\"line\":{\"color\":\"white\"}},\"header\":{\"fill\":{\"color\":\"#C8D4E3\"},\"line\":{\"color\":\"white\"}},\"type\":\"table\"}],\"barpolar\":[{\"marker\":{\"line\":{\"color\":\"#E5ECF6\",\"width\":0.5},\"pattern\":{\"fillmode\":\"overlay\",\"size\":10,\"solidity\":0.2}},\"type\":\"barpolar\"}],\"pie\":[{\"automargin\":true,\"type\":\"pie\"}]},\"layout\":{\"autotypenumbers\":\"strict\",\"colorway\":[\"#636efa\",\"#EF553B\",\"#00cc96\",\"#ab63fa\",\"#FFA15A\",\"#19d3f3\",\"#FF6692\",\"#B6E880\",\"#FF97FF\",\"#FECB52\"],\"font\":{\"color\":\"#2a3f5f\"},\"hovermode\":\"closest\",\"hoverlabel\":{\"align\":\"left\"},\"paper_bgcolor\":\"white\",\"plot_bgcolor\":\"#E5ECF6\",\"polar\":{\"bgcolor\":\"#E5ECF6\",\"angularaxis\":{\"gridcolor\":\"white\",\"linecolor\":\"white\",\"ticks\":\"\"},\"radialaxis\":{\"gridcolor\":\"white\",\"linecolor\":\"white\",\"ticks\":\"\"}},\"ternary\":{\"bgcolor\":\"#E5ECF6\",\"aaxis\":{\"gridcolor\":\"white\",\"linecolor\":\"white\",\"ticks\":\"\"},\"baxis\":{\"gridcolor\":\"white\",\"linecolor\":\"white\",\"ticks\":\"\"},\"caxis\":{\"gridcolor\":\"white\",\"linecolor\":\"white\",\"ticks\":\"\"}},\"coloraxis\":{\"colorbar\":{\"outlinewidth\":0,\"ticks\":\"\"}},\"colorscale\":{\"sequential\":[[0.0,\"#0d0887\"],[0.1111111111111111,\"#46039f\"],[0.2222222222222222,\"#7201a8\"],[0.3333333333333333,\"#9c179e\"],[0.4444444444444444,\"#bd3786\"],[0.5555555555555556,\"#d8576b\"],[0.6666666666666666,\"#ed7953\"],[0.7777777777777778,\"#fb9f3a\"],[0.8888888888888888,\"#fdca26\"],[1.0,\"#f0f921\"]],\"sequentialminus\":[[0.0,\"#0d0887\"],[0.1111111111111111,\"#46039f\"],[0.2222222222222222,\"#7201a8\"],[0.3333333333333333,\"#9c179e\"],[0.4444444444444444,\"#bd3786\"],[0.5555555555555556,\"#d8576b\"],[0.6666666666666666,\"#ed7953\"],[0.7777777777777778,\"#fb9f3a\"],[0.8888888888888888,\"#fdca26\"],[1.0,\"#f0f921\"]],\"diverging\":[[0,\"#8e0152\"],[0.1,\"#c51b7d\"],[0.2,\"#de77ae\"],[0.3,\"#f1b6da\"],[0.4,\"#fde0ef\"],[0.5,\"#f7f7f7\"],[0.6,\"#e6f5d0\"],[0.7,\"#b8e186\"],[0.8,\"#7fbc41\"],[0.9,\"#4d9221\"],[1,\"#276419\"]]},\"xaxis\":{\"gridcolor\":\"white\",\"linecolor\":\"white\",\"ticks\":\"\",\"title\":{\"standoff\":15},\"zerolinecolor\":\"white\",\"automargin\":true,\"zerolinewidth\":2},\"yaxis\":{\"gridcolor\":\"white\",\"linecolor\":\"white\",\"ticks\":\"\",\"title\":{\"standoff\":15},\"zerolinecolor\":\"white\",\"automargin\":true,\"zerolinewidth\":2},\"scene\":{\"xaxis\":{\"backgroundcolor\":\"#E5ECF6\",\"gridcolor\":\"white\",\"linecolor\":\"white\",\"showbackground\":true,\"ticks\":\"\",\"zerolinecolor\":\"white\",\"gridwidth\":2},\"yaxis\":{\"backgroundcolor\":\"#E5ECF6\",\"gridcolor\":\"white\",\"linecolor\":\"white\",\"showbackground\":true,\"ticks\":\"\",\"zerolinecolor\":\"white\",\"gridwidth\":2},\"zaxis\":{\"backgroundcolor\":\"#E5ECF6\",\"gridcolor\":\"white\",\"linecolor\":\"white\",\"showbackground\":true,\"ticks\":\"\",\"zerolinecolor\":\"white\",\"gridwidth\":2}},\"shapedefaults\":{\"line\":{\"color\":\"#2a3f5f\"}},\"annotationdefaults\":{\"arrowcolor\":\"#2a3f5f\",\"arrowhead\":0,\"arrowwidth\":1},\"geo\":{\"bgcolor\":\"white\",\"landcolor\":\"#E5ECF6\",\"subunitcolor\":\"white\",\"showland\":true,\"showlakes\":true,\"lakecolor\":\"white\"},\"title\":{\"x\":0.05},\"mapbox\":{\"style\":\"light\"}}},\"title\":{\"text\":\"Bar Plot Example\"},\"xaxis\":{\"title\":{\"text\":\"Categories\"}},\"yaxis\":{\"title\":{\"text\":\"Values\"}}},                        {\"responsive\": true}                    ).then(function(){\n",
              "                            \n",
              "var gd = document.getElementById('a2e6d152-26a9-4d12-9d4a-3980774549b6');\n",
              "var x = new MutationObserver(function (mutations, observer) {{\n",
              "        var display = window.getComputedStyle(gd).display;\n",
              "        if (!display || display === 'none') {{\n",
              "            console.log([gd, 'removed!']);\n",
              "            Plotly.purge(gd);\n",
              "            observer.disconnect();\n",
              "        }}\n",
              "}});\n",
              "\n",
              "// Listen for the removal of the full notebook cells\n",
              "var notebookContainer = gd.closest('#notebook-container');\n",
              "if (notebookContainer) {{\n",
              "    x.observe(notebookContainer, {childList: true});\n",
              "}}\n",
              "\n",
              "// Listen for the clearing of the current output cell\n",
              "var outputEl = gd.closest('.output');\n",
              "if (outputEl) {{\n",
              "    x.observe(outputEl, {childList: true});\n",
              "}}\n",
              "\n",
              "                        })                };                            </script>        </div>\n",
              "</body>\n",
              "</html>"
            ]
          },
          "metadata": {}
        }
      ]
    },
    {
      "cell_type": "code",
      "source": [
        "#Q6-Create a dataframe and add a new column based on an existing column?\n",
        "import pandas as pd\n",
        "\n",
        "# Create a sample DataFrame\n",
        "data = {\n",
        "    'Name': ['YASH', 'BHARAT', 'SHUBHAM ', 'SHIVAM'],\n",
        "    'Age': [25, 30, 35, 40]\n",
        "}\n",
        "df = pd.DataFrame(data)\n",
        "\n",
        "# Add a new column based on an existing column\n",
        "df['Age in 5 Years'] = df['Age'] + 5\n",
        "\n",
        "# Display the DataFrame\n",
        "print(df)"
      ],
      "metadata": {
        "colab": {
          "base_uri": "https://localhost:8080/"
        },
        "id": "5YXvJiHDQ-LX",
        "outputId": "dfdb02dd-f36f-44e1-e7c1-84a4d240e87c"
      },
      "execution_count": null,
      "outputs": [
        {
          "output_type": "stream",
          "name": "stdout",
          "text": [
            "       Name  Age  Age in 5 Years\n",
            "0      YASH   25              30\n",
            "1    BHARAT   30              35\n",
            "2  SHUBHAM    35              40\n",
            "3    SHIVAM   40              45\n"
          ]
        }
      ]
    },
    {
      "cell_type": "code",
      "source": [
        "#Q7-Write a program to perform element-wise multiplication of two numpy arrays?\n",
        "import numpy as np\n",
        "\n",
        "# Step 1: Create two NumPy arrays\n",
        "array1 = np.array([1, 2, 3, 4])\n",
        "array2 = np.array([5, 6, 7, 8])\n",
        "\n",
        "# Step 2: Perform element-wise multiplication\n",
        "result = array1 * array2  # or you can use np.multiply(array1, array2)\n",
        "\n",
        "# Step 3: Display the result\n",
        "print(\"Array 1:\", array1)\n",
        "print(\"Array 2:\", array2)\n",
        "print(\"Element-wise multiplication result:\", result)"
      ],
      "metadata": {
        "colab": {
          "base_uri": "https://localhost:8080/"
        },
        "id": "s9cxlhnUSqxN",
        "outputId": "2becec46-b2e1-4db2-a87e-67ce39a39ea1"
      },
      "execution_count": null,
      "outputs": [
        {
          "output_type": "stream",
          "name": "stdout",
          "text": [
            "Array 1: [1 2 3 4]\n",
            "Array 2: [5 6 7 8]\n",
            "Element-wise multiplication result: [ 5 12 21 32]\n"
          ]
        }
      ]
    },
    {
      "cell_type": "code",
      "source": [
        "#Q8- Create a line plot with multiple lines using matplotib.\n",
        "import matplotlib.pyplot as plt\n",
        "\n",
        "# Step 1: Create sample data\n",
        "x = [1, 2, 3, 4, 5]\n",
        "y1 = [2, 3, 5, 7, 11]  # First line\n",
        "y2 = [1, 4, 6, 8, 10]  # Second line\n",
        "y3 = [3, 5, 2, 4, 6]   # Third line\n",
        "\n",
        "# Step 2: Create the line plot\n",
        "plt.plot(x, y1, label='Line 1', marker='o')  # First line with markers\n",
        "plt.plot(x, y2, label='Line 2', marker='s')  # Second line with square markers\n",
        "plt.plot(x, y3, label='Line 3', marker='^')  # Third line with triangle markers\n",
        "\n",
        "# Step 3: Customize the plot\n",
        "plt.title('Multiple Line Plot Example')\n",
        "plt.xlabel('X-axis Label')\n",
        "plt.ylabel('Y-axis Label')\n",
        "plt.legend()  # Show legend\n",
        "plt.grid(True)  # Add grid lines\n",
        "\n",
        "# Step 4: Show the plot\n",
        "plt.show()"
      ],
      "metadata": {
        "colab": {
          "base_uri": "https://localhost:8080/",
          "height": 472
        },
        "id": "kvNHpqNFTUdm",
        "outputId": "4457de25-9b0b-405b-a609-700be4413805"
      },
      "execution_count": null,
      "outputs": [
        {
          "output_type": "display_data",
          "data": {
            "text/plain": [
              "<Figure size 640x480 with 1 Axes>"
            ],
            "image/png": "[encoded data removed]"
          },
          "metadata": {}
        }
      ]
    },
    {
      "cell_type": "code",
      "source": [
        "#Q9- Generate a pandas dataframe and filter rows where a column value is greater than a threshold?\n",
        "import pandas as pd\n",
        "\n",
        "# Step 1: Create a sample DataFrame\n",
        "data = {\n",
        "    'Name': ['yash', 'bharat', 'shubham', 'sara', 'oshin'],\n",
        "    'Age': [25, 30, 35, 15, 22],\n",
        "    'Score': [85, 90, 78, 88, 95]\n",
        "}\n",
        "df = pd.DataFrame(data)\n",
        "\n",
        "# Step 2: Define the threshold\n",
        "threshold = 30\n",
        "\n",
        "# Step 3: Filter rows where 'Age' is greater than the threshold\n",
        "filtered_df = df[df['Age'] > threshold]\n",
        "\n",
        "# Step 4: Display the filtered DataFrame\n",
        "print(\"Filtered DataFrame (Age > 30):\")\n",
        "print(filtered_df)"
      ],
      "metadata": {
        "colab": {
          "base_uri": "https://localhost:8080/"
        },
        "id": "LPxgstddTwab",
        "outputId": "79d6c019-72ca-43b5-b0c3-19c7fa0753b9"
      },
      "execution_count": null,
      "outputs": [
        {
          "output_type": "stream",
          "name": "stdout",
          "text": [
            "Filtered DataFrame (Age > 30):\n",
            "      Name  Age  Score\n",
            "2  shubham   35     78\n"
          ]
        }
      ]
    },
    {
      "cell_type": "code",
      "source": [
        "#Q10- Create a histogram using seaborn to visalize a distribution?\n",
        "import seaborn as sns\n",
        "import matplotlib.pyplot as plt\n",
        "import numpy as np\n",
        "\n",
        "# Step 1: Create sample data\n",
        "# Generating random data from a normal distribution\n",
        "data = np.random.normal(loc=0, scale=1, size=1000)  # mean=0, std=1, n=1000\n",
        "\n",
        "# Step 2: Create the histogram\n",
        "sns.histplot(data, bins=30, kde=True)  # kde=True adds a kernel density estimate\n",
        "\n",
        "# Step 3: Customize the plot\n",
        "plt.title('Histogram of Normally Distributed Data')\n",
        "plt.xlabel('Value')\n",
        "plt.ylabel('Frequency')\n",
        "\n",
        "# Step 4: Show the plot\n",
        "plt.show()"
      ],
      "metadata": {
        "colab": {
          "base_uri": "https://localhost:8080/",
          "height": 472
        },
        "id": "zJM5CdIAU2pn",
        "outputId": "1acbe036-9fac-45e8-cb84-18ab2fa39b38"
      },
      "execution_count": null,
      "outputs": [
        {
          "output_type": "display_data",
          "data": {
            "text/plain": [
              "<Figure size 640x480 with 1 Axes>"
            ],
            "image/png": "[encoded data removed]"
          },
          "metadata": {}
        }
      ]
    },
    {
      "cell_type": "code",
      "source": [
        "#Q11- Perform matrix multiplicaton using numpy?\n",
        "import numpy as np\n",
        "\n",
        "# Step 1: Create two matrices (2D arrays)\n",
        "matrix_a = np.array([[1, 2, 3],\n",
        "                     [4, 5, 6]])\n",
        "\n",
        "matrix_b = np.array([[7, 8],\n",
        "                     [9, 10],\n",
        "                     [11, 12]])\n",
        "\n",
        "# Step 2: Perform matrix multiplication using the @ operator\n",
        "result = matrix_a @ matrix_b\n",
        "\n",
        "# Alternatively, you can use numpy.dot()\n",
        "# result = np.dot(matrix_a, matrix_b)\n",
        "\n",
        "# Step 3: Display the result\n",
        "print(\"Matrix A:\")\n",
        "print(matrix_a)\n",
        "print(\"\\nMatrix B:\")\n",
        "print(matrix_b)\n",
        "print(\"\\nResult of Matrix Multiplication (A @ B):\")\n",
        "print(result)"
      ],
      "metadata": {
        "colab": {
          "base_uri": "https://localhost:8080/"
        },
        "id": "miAJfS0rVQ84",
        "outputId": "d02da89e-fd7d-4b2e-d78f-6ffc9196ee93"
      },
      "execution_count": null,
      "outputs": [
        {
          "output_type": "stream",
          "name": "stdout",
          "text": [
            "Matrix A:\n",
            "[[1 2 3]\n",
            " [4 5 6]]\n",
            "\n",
            "Matrix B:\n",
            "[[ 7  8]\n",
            " [ 9 10]\n",
            " [11 12]]\n",
            "\n",
            "Result of Matrix Multiplication (A @ B):\n",
            "[[ 58  64]\n",
            " [139 154]]\n"
          ]
        }
      ]
    },
    {
      "cell_type": "code",
      "source": [
        "#Q12-Use pandas to load a CSV file and display its first 5 row?\n",
        "import pandas as pd\n",
        "\n",
        "# Create some sample data\n",
        "data = {\n",
        "    'Name': ['Alice', 'Bob', 'Charlie', 'David', 'Eve'],\n",
        "    'Age': [24, 30, 22, 35, 28],\n",
        "    'City': ['New York', 'Los Angeles', 'Chicago', 'Houston', 'Phoenix']\n",
        "}\n",
        "\n",
        "# Convert the dictionary to a DataFrame\n",
        "df = pd.DataFrame(data)\n",
        "\n",
        "# Save it to a CSV file\n",
        "df.to_csv('sample.csv', index=False)\n",
        "\n"
      ],
      "metadata": {
        "id": "PVW3Bso4Vl1q"
      },
      "execution_count": null,
      "outputs": []
    },
    {
      "cell_type": "code",
      "source": [
        "# Load the CSV file\n",
        "df_loaded = pd.read_csv('sample.csv')\n",
        "\n",
        "# Display the first 5 rows\n",
        "print(df_loaded.head())\n"
      ],
      "metadata": {
        "colab": {
          "base_uri": "https://localhost:8080/"
        },
        "id": "fsvssKjeLAMa",
        "outputId": "38595a00-7098-43df-fd86-89e9f0010625"
      },
      "execution_count": null,
      "outputs": [
        {
          "output_type": "stream",
          "name": "stdout",
          "text": [
            "      Name  Age         City\n",
            "0    Alice   24     New York\n",
            "1      Bob   30  Los Angeles\n",
            "2  Charlie   22      Chicago\n",
            "3    David   35      Houston\n",
            "4      Eve   28      Phoenix\n"
          ]
        }
      ]
    },
    {
      "cell_type": "code",
      "source": [
        "print(df.info())\n",
        "\n"
      ],
      "metadata": {
        "colab": {
          "base_uri": "https://localhost:8080/"
        },
        "id": "mI4AgXwaLV3B",
        "outputId": "667a3b77-1d97-4293-bfe7-dd9ce583b82b"
      },
      "execution_count": null,
      "outputs": [
        {
          "output_type": "stream",
          "name": "stdout",
          "text": [
            "<class 'pandas.core.frame.DataFrame'>\n",
            "RangeIndex: 5 entries, 0 to 4\n",
            "Data columns (total 3 columns):\n",
            " #   Column  Non-Null Count  Dtype \n",
            "---  ------  --------------  ----- \n",
            " 0   Name    5 non-null      object\n",
            " 1   Age     5 non-null      int64 \n",
            " 2   City    5 non-null      object\n",
            "dtypes: int64(1), object(2)\n",
            "memory usage: 252.0+ bytes\n",
            "None\n"
          ]
        }
      ]
    },
    {
      "cell_type": "code",
      "source": [
        "print(df.describe())\n"
      ],
      "metadata": {
        "colab": {
          "base_uri": "https://localhost:8080/"
        },
        "id": "nFz1MAncLeWB",
        "outputId": "6192a491-6b54-4b02-e530-2aba47211417"
      },
      "execution_count": null,
      "outputs": [
        {
          "output_type": "stream",
          "name": "stdout",
          "text": [
            "             Age\n",
            "count   5.000000\n",
            "mean   27.800000\n",
            "std     5.118594\n",
            "min    22.000000\n",
            "25%    24.000000\n",
            "50%    28.000000\n",
            "75%    30.000000\n",
            "max    35.000000\n"
          ]
        }
      ]
    },
    {
      "cell_type": "code",
      "source": [
        "print(df.isnull().sum())\n"
      ],
      "metadata": {
        "colab": {
          "base_uri": "https://localhost:8080/"
        },
        "id": "7dPpp_iELiXu",
        "outputId": "e0ef32d2-46ef-481f-f9ef-c2a6cb2826d0"
      },
      "execution_count": null,
      "outputs": [
        {
          "output_type": "stream",
          "name": "stdout",
          "text": [
            "Name    0\n",
            "Age     0\n",
            "City    0\n",
            "dtype: int64\n"
          ]
        }
      ]
    },
    {
      "cell_type": "code",
      "source": [
        "print(df.sort_values(by='Age'))\n"
      ],
      "metadata": {
        "colab": {
          "base_uri": "https://localhost:8080/"
        },
        "id": "Vs7fkQn-Lnnr",
        "outputId": "4182758e-5104-4af0-ee41-90c420dbf2bc"
      },
      "execution_count": null,
      "outputs": [
        {
          "output_type": "stream",
          "name": "stdout",
          "text": [
            "      Name  Age         City\n",
            "2  Charlie   22      Chicago\n",
            "0    Alice   24     New York\n",
            "4      Eve   28      Phoenix\n",
            "1      Bob   30  Los Angeles\n",
            "3    David   35      Houston\n"
          ]
        }
      ]
    },
    {
      "cell_type": "code",
      "source": [
        "older_than_25 = df[df['Age'] > 25]\n",
        "print(older_than_25)\n"
      ],
      "metadata": {
        "colab": {
          "base_uri": "https://localhost:8080/"
        },
        "id": "gT4pIewFLs89",
        "outputId": "fbedcab9-c518-4e6c-c6ed-38579e444827"
      },
      "execution_count": null,
      "outputs": [
        {
          "output_type": "stream",
          "name": "stdout",
          "text": [
            "    Name  Age         City\n",
            "1    Bob   30  Los Angeles\n",
            "3  David   35      Houston\n",
            "4    Eve   28      Phoenix\n"
          ]
        }
      ]
    },
    {
      "cell_type": "code",
      "source": [
        "df['Age_in_5_years'] = df['Age'] + 5\n",
        "print(df)\n"
      ],
      "metadata": {
        "colab": {
          "base_uri": "https://localhost:8080/"
        },
        "id": "1-Y0aXqzMAKY",
        "outputId": "8946c94c-556f-4c08-852d-915cf2968c28"
      },
      "execution_count": null,
      "outputs": [
        {
          "output_type": "stream",
          "name": "stdout",
          "text": [
            "      Name  Age         City  Age_in_5_years\n",
            "0    Alice   24     New York              29\n",
            "1      Bob   30  Los Angeles              35\n",
            "2  Charlie   22      Chicago              27\n",
            "3    David   35      Houston              40\n",
            "4      Eve   28      Phoenix              33\n"
          ]
        }
      ]
    },
    {
      "cell_type": "code",
      "source": [
        "import matplotlib.pyplot as plt\n",
        "\n",
        "plt.bar(df['Name'], df['Age'])\n",
        "plt.xlabel('Name')\n",
        "plt.ylabel('Age')\n",
        "plt.title('Age of People')\n",
        "plt.show()\n"
      ],
      "metadata": {
        "colab": {
          "base_uri": "https://localhost:8080/",
          "height": 472
        },
        "id": "hIdZeTiaMB_z",
        "outputId": "64403ef3-8be7-47f0-f7b3-c88d92ea7f62"
      },
      "execution_count": null,
      "outputs": [
        {
          "output_type": "display_data",
          "data": {
            "text/plain": [
              "<Figure size 640x480 with 1 Axes>"
            ],
            "image/png": "[encoded data removed]"
          },
          "metadata": {}
        }
      ]
    },
    {
      "cell_type": "code",
      "source": [
        "#Q13- Create a 3D scatter plot using plotly?\n",
        "import plotly.express as px\n",
        "import pandas as pd\n",
        "\n",
        "# Prepare the data\n",
        "data = {\n",
        "    'x': [1, 2, 3, 4, 5],\n",
        "    'y': [5, 4, 3, 2, 1],\n",
        "    'z': [2, 3, 4, 5, 6]\n",
        "}\n",
        "df = pd.DataFrame(data)\n",
        "\n",
        "# Create the 3D scatter plot\n",
        "fig = px.scatter_3d(df, x='x', y='y', z='z', color='z', size='z', title='3D Scatter Plot Example')\n",
        "\n",
        "# Show the plot\n",
        "fig.show()"
      ],
      "metadata": {
        "colab": {
          "base_uri": "https://localhost:8080/",
          "height": 542
        },
        "id": "MXy3AtHbXGOx",
        "outputId": "6eb12000-e802-4816-9a6d-49a82918434f"
      },
      "execution_count": null,
      "outputs": [
        {
          "output_type": "display_data",
          "data": {
            "text/html": [
              "<html>\n",
              "<head><meta charset=\"utf-8\" /></head>\n",
              "<body>\n",
              "    <div>            <script src=\"https://cdnjs.cloudflare.com/ajax/libs/mathjax/2.7.5/MathJax.js?config=TeX-AMS-MML_SVG\"></script><script type=\"text/javascript\">if (window.MathJax && window.MathJax.Hub && window.MathJax.Hub.Config) {window.MathJax.Hub.Config({SVG: {font: \"STIX-Web\"}});}</script>                <script type=\"text/javascript\">window.PlotlyConfig = {MathJaxConfig: 'local'};</script>\n",
              "        <script charset=\"utf-8\" src=\"https://cdn.plot.ly/plotly-2.35.2.min.js\"></script>                <div id=\"00b16fdd-2155-403b-b3cd-8d92f657cd33\" class=\"plotly-graph-div\" style=\"height:525px; width:100%;\"></div>            <script type=\"text/javascript\">                                    window.PLOTLYENV=window.PLOTLYENV || {};                                    if (document.getElementById(\"00b16fdd-2155-403b-b3cd-8d92f657cd33\")) {                    Plotly.newPlot(                        \"00b16fdd-2155-403b-b3cd-8d92f657cd33\",                        [{\"hovertemplate\":\"x=%{x}\\u003cbr\\u003ey=%{y}\\u003cbr\\u003ez=%{marker.color}\\u003cextra\\u003e\\u003c\\u002fextra\\u003e\",\"legendgroup\":\"\",\"marker\":{\"color\":[2,3,4,5,6],\"coloraxis\":\"coloraxis\",\"size\":[2,3,4,5,6],\"sizemode\":\"area\",\"sizeref\":0.015,\"symbol\":\"circle\"},\"mode\":\"markers\",\"name\":\"\",\"scene\":\"scene\",\"showlegend\":false,\"x\":[1,2,3,4,5],\"y\":[5,4,3,2,1],\"z\":[2,3,4,5,6],\"type\":\"scatter3d\"}],                        {\"template\":{\"data\":{\"histogram2dcontour\":[{\"type\":\"histogram2dcontour\",\"colorbar\":{\"outlinewidth\":0,\"ticks\":\"\"},\"colorscale\":[[0.0,\"#0d0887\"],[0.1111111111111111,\"#46039f\"],[0.2222222222222222,\"#7201a8\"],[0.3333333333333333,\"#9c179e\"],[0.4444444444444444,\"#bd3786\"],[0.5555555555555556,\"#d8576b\"],[0.6666666666666666,\"#ed7953\"],[0.7777777777777778,\"#fb9f3a\"],[0.8888888888888888,\"#fdca26\"],[1.0,\"#f0f921\"]]}],\"choropleth\":[{\"type\":\"choropleth\",\"colorbar\":{\"outlinewidth\":0,\"ticks\":\"\"}}],\"histogram2d\":[{\"type\":\"histogram2d\",\"colorbar\":{\"outlinewidth\":0,\"ticks\":\"\"},\"colorscale\":[[0.0,\"#0d0887\"],[0.1111111111111111,\"#46039f\"],[0.2222222222222222,\"#7201a8\"],[0.3333333333333333,\"#9c179e\"],[0.4444444444444444,\"#bd3786\"],[0.5555555555555556,\"#d8576b\"],[0.6666666666666666,\"#ed7953\"],[0.7777777777777778,\"#fb9f3a\"],[0.8888888888888888,\"#fdca26\"],[1.0,\"#f0f921\"]]}],\"heatmap\":[{\"type\":\"heatmap\",\"colorbar\":{\"outlinewidth\":0,\"ticks\":\"\"},\"colorscale\":[[0.0,\"#0d0887\"],[0.1111111111111111,\"#46039f\"],[0.2222222222222222,\"#7201a8\"],[0.3333333333333333,\"#9c179e\"],[0.4444444444444444,\"#bd3786\"],[0.5555555555555556,\"#d8576b\"],[0.6666666666666666,\"#ed7953\"],[0.7777777777777778,\"#fb9f3a\"],[0.8888888888888888,\"#fdca26\"],[1.0,\"#f0f921\"]]}],\"heatmapgl\":[{\"type\":\"heatmapgl\",\"colorbar\":{\"outlinewidth\":0,\"ticks\":\"\"},\"colorscale\":[[0.0,\"#0d0887\"],[0.1111111111111111,\"#46039f\"],[0.2222222222222222,\"#7201a8\"],[0.3333333333333333,\"#9c179e\"],[0.4444444444444444,\"#bd3786\"],[0.5555555555555556,\"#d8576b\"],[0.6666666666666666,\"#ed7953\"],[0.7777777777777778,\"#fb9f3a\"],[0.8888888888888888,\"#fdca26\"],[1.0,\"#f0f921\"]]}],\"contourcarpet\":[{\"type\":\"contourcarpet\",\"colorbar\":{\"outlinewidth\":0,\"ticks\":\"\"}}],\"contour\":[{\"type\":\"contour\",\"colorbar\":{\"outlinewidth\":0,\"ticks\":\"\"},\"colorscale\":[[0.0,\"#0d0887\"],[0.1111111111111111,\"#46039f\"],[0.2222222222222222,\"#7201a8\"],[0.3333333333333333,\"#9c179e\"],[0.4444444444444444,\"#bd3786\"],[0.5555555555555556,\"#d8576b\"],[0.6666666666666666,\"#ed7953\"],[0.7777777777777778,\"#fb9f3a\"],[0.8888888888888888,\"#fdca26\"],[1.0,\"#f0f921\"]]}],\"surface\":[{\"type\":\"surface\",\"colorbar\":{\"outlinewidth\":0,\"ticks\":\"\"},\"colorscale\":[[0.0,\"#0d0887\"],[0.1111111111111111,\"#46039f\"],[0.2222222222222222,\"#7201a8\"],[0.3333333333333333,\"#9c179e\"],[0.4444444444444444,\"#bd3786\"],[0.5555555555555556,\"#d8576b\"],[0.6666666666666666,\"#ed7953\"],[0.7777777777777778,\"#fb9f3a\"],[0.8888888888888888,\"#fdca26\"],[1.0,\"#f0f921\"]]}],\"mesh3d\":[{\"type\":\"mesh3d\",\"colorbar\":{\"outlinewidth\":0,\"ticks\":\"\"}}],\"scatter\":[{\"fillpattern\":{\"fillmode\":\"overlay\",\"size\":10,\"solidity\":0.2},\"type\":\"scatter\"}],\"parcoords\":[{\"type\":\"parcoords\",\"line\":{\"colorbar\":{\"outlinewidth\":0,\"ticks\":\"\"}}}],\"scatterpolargl\":[{\"type\":\"scatterpolargl\",\"marker\":{\"colorbar\":{\"outlinewidth\":0,\"ticks\":\"\"}}}],\"bar\":[{\"error_x\":{\"color\":\"#2a3f5f\"},\"error_y\":{\"color\":\"#2a3f5f\"},\"marker\":{\"line\":{\"color\":\"#E5ECF6\",\"width\":0.5},\"pattern\":{\"fillmode\":\"overlay\",\"size\":10,\"solidity\":0.2}},\"type\":\"bar\"}],\"scattergeo\":[{\"type\":\"scattergeo\",\"marker\":{\"colorbar\":{\"outlinewidth\":0,\"ticks\":\"\"}}}],\"scatterpolar\":[{\"type\":\"scatterpolar\",\"marker\":{\"colorbar\":{\"outlinewidth\":0,\"ticks\":\"\"}}}],\"histogram\":[{\"marker\":{\"pattern\":{\"fillmode\":\"overlay\",\"size\":10,\"solidity\":0.2}},\"type\":\"histogram\"}],\"scattergl\":[{\"type\":\"scattergl\",\"marker\":{\"colorbar\":{\"outlinewidth\":0,\"ticks\":\"\"}}}],\"scatter3d\":[{\"type\":\"scatter3d\",\"line\":{\"colorbar\":{\"outlinewidth\":0,\"ticks\":\"\"}},\"marker\":{\"colorbar\":{\"outlinewidth\":0,\"ticks\":\"\"}}}],\"scattermapbox\":[{\"type\":\"scattermapbox\",\"marker\":{\"colorbar\":{\"outlinewidth\":0,\"ticks\":\"\"}}}],\"scatterternary\":[{\"type\":\"scatterternary\",\"marker\":{\"colorbar\":{\"outlinewidth\":0,\"ticks\":\"\"}}}],\"scattercarpet\":[{\"type\":\"scattercarpet\",\"marker\":{\"colorbar\":{\"outlinewidth\":0,\"ticks\":\"\"}}}],\"carpet\":[{\"aaxis\":{\"endlinecolor\":\"#2a3f5f\",\"gridcolor\":\"white\",\"linecolor\":\"white\",\"minorgridcolor\":\"white\",\"startlinecolor\":\"#2a3f5f\"},\"baxis\":{\"endlinecolor\":\"#2a3f5f\",\"gridcolor\":\"white\",\"linecolor\":\"white\",\"minorgridcolor\":\"white\",\"startlinecolor\":\"#2a3f5f\"},\"type\":\"carpet\"}],\"table\":[{\"cells\":{\"fill\":{\"color\":\"#EBF0F8\"},\"line\":{\"color\":\"white\"}},\"header\":{\"fill\":{\"color\":\"#C8D4E3\"},\"line\":{\"color\":\"white\"}},\"type\":\"table\"}],\"barpolar\":[{\"marker\":{\"line\":{\"color\":\"#E5ECF6\",\"width\":0.5},\"pattern\":{\"fillmode\":\"overlay\",\"size\":10,\"solidity\":0.2}},\"type\":\"barpolar\"}],\"pie\":[{\"automargin\":true,\"type\":\"pie\"}]},\"layout\":{\"autotypenumbers\":\"strict\",\"colorway\":[\"#636efa\",\"#EF553B\",\"#00cc96\",\"#ab63fa\",\"#FFA15A\",\"#19d3f3\",\"#FF6692\",\"#B6E880\",\"#FF97FF\",\"#FECB52\"],\"font\":{\"color\":\"#2a3f5f\"},\"hovermode\":\"closest\",\"hoverlabel\":{\"align\":\"left\"},\"paper_bgcolor\":\"white\",\"plot_bgcolor\":\"#E5ECF6\",\"polar\":{\"bgcolor\":\"#E5ECF6\",\"angularaxis\":{\"gridcolor\":\"white\",\"linecolor\":\"white\",\"ticks\":\"\"},\"radialaxis\":{\"gridcolor\":\"white\",\"linecolor\":\"white\",\"ticks\":\"\"}},\"ternary\":{\"bgcolor\":\"#E5ECF6\",\"aaxis\":{\"gridcolor\":\"white\",\"linecolor\":\"white\",\"ticks\":\"\"},\"baxis\":{\"gridcolor\":\"white\",\"linecolor\":\"white\",\"ticks\":\"\"},\"caxis\":{\"gridcolor\":\"white\",\"linecolor\":\"white\",\"ticks\":\"\"}},\"coloraxis\":{\"colorbar\":{\"outlinewidth\":0,\"ticks\":\"\"}},\"colorscale\":{\"sequential\":[[0.0,\"#0d0887\"],[0.1111111111111111,\"#46039f\"],[0.2222222222222222,\"#7201a8\"],[0.3333333333333333,\"#9c179e\"],[0.4444444444444444,\"#bd3786\"],[0.5555555555555556,\"#d8576b\"],[0.6666666666666666,\"#ed7953\"],[0.7777777777777778,\"#fb9f3a\"],[0.8888888888888888,\"#fdca26\"],[1.0,\"#f0f921\"]],\"sequentialminus\":[[0.0,\"#0d0887\"],[0.1111111111111111,\"#46039f\"],[0.2222222222222222,\"#7201a8\"],[0.3333333333333333,\"#9c179e\"],[0.4444444444444444,\"#bd3786\"],[0.5555555555555556,\"#d8576b\"],[0.6666666666666666,\"#ed7953\"],[0.7777777777777778,\"#fb9f3a\"],[0.8888888888888888,\"#fdca26\"],[1.0,\"#f0f921\"]],\"diverging\":[[0,\"#8e0152\"],[0.1,\"#c51b7d\"],[0.2,\"#de77ae\"],[0.3,\"#f1b6da\"],[0.4,\"#fde0ef\"],[0.5,\"#f7f7f7\"],[0.6,\"#e6f5d0\"],[0.7,\"#b8e186\"],[0.8,\"#7fbc41\"],[0.9,\"#4d9221\"],[1,\"#276419\"]]},\"xaxis\":{\"gridcolor\":\"white\",\"linecolor\":\"white\",\"ticks\":\"\",\"title\":{\"standoff\":15},\"zerolinecolor\":\"white\",\"automargin\":true,\"zerolinewidth\":2},\"yaxis\":{\"gridcolor\":\"white\",\"linecolor\":\"white\",\"ticks\":\"\",\"title\":{\"standoff\":15},\"zerolinecolor\":\"white\",\"automargin\":true,\"zerolinewidth\":2},\"scene\":{\"xaxis\":{\"backgroundcolor\":\"#E5ECF6\",\"gridcolor\":\"white\",\"linecolor\":\"white\",\"showbackground\":true,\"ticks\":\"\",\"zerolinecolor\":\"white\",\"gridwidth\":2},\"yaxis\":{\"backgroundcolor\":\"#E5ECF6\",\"gridcolor\":\"white\",\"linecolor\":\"white\",\"showbackground\":true,\"ticks\":\"\",\"zerolinecolor\":\"white\",\"gridwidth\":2},\"zaxis\":{\"backgroundcolor\":\"#E5ECF6\",\"gridcolor\":\"white\",\"linecolor\":\"white\",\"showbackground\":true,\"ticks\":\"\",\"zerolinecolor\":\"white\",\"gridwidth\":2}},\"shapedefaults\":{\"line\":{\"color\":\"#2a3f5f\"}},\"annotationdefaults\":{\"arrowcolor\":\"#2a3f5f\",\"arrowhead\":0,\"arrowwidth\":1},\"geo\":{\"bgcolor\":\"white\",\"landcolor\":\"#E5ECF6\",\"subunitcolor\":\"white\",\"showland\":true,\"showlakes\":true,\"lakecolor\":\"white\"},\"title\":{\"x\":0.05},\"mapbox\":{\"style\":\"light\"}}},\"scene\":{\"domain\":{\"x\":[0.0,1.0],\"y\":[0.0,1.0]},\"xaxis\":{\"title\":{\"text\":\"x\"}},\"yaxis\":{\"title\":{\"text\":\"y\"}},\"zaxis\":{\"title\":{\"text\":\"z\"}}},\"coloraxis\":{\"colorbar\":{\"title\":{\"text\":\"z\"}},\"colorscale\":[[0.0,\"#0d0887\"],[0.1111111111111111,\"#46039f\"],[0.2222222222222222,\"#7201a8\"],[0.3333333333333333,\"#9c179e\"],[0.4444444444444444,\"#bd3786\"],[0.5555555555555556,\"#d8576b\"],[0.6666666666666666,\"#ed7953\"],[0.7777777777777778,\"#fb9f3a\"],[0.8888888888888888,\"#fdca26\"],[1.0,\"#f0f921\"]]},\"legend\":{\"tracegroupgap\":0,\"itemsizing\":\"constant\"},\"title\":{\"text\":\"3D Scatter Plot Example\"}},                        {\"responsive\": true}                    ).then(function(){\n",
              "                            \n",
              "var gd = document.getElementById('00b16fdd-2155-403b-b3cd-8d92f657cd33');\n",
              "var x = new MutationObserver(function (mutations, observer) {{\n",
              "        var display = window.getComputedStyle(gd).display;\n",
              "        if (!display || display === 'none') {{\n",
              "            console.log([gd, 'removed!']);\n",
              "            Plotly.purge(gd);\n",
              "            observer.disconnect();\n",
              "        }}\n",
              "}});\n",
              "\n",
              "// Listen for the removal of the full notebook cells\n",
              "var notebookContainer = gd.closest('#notebook-container');\n",
              "if (notebookContainer) {{\n",
              "    x.observe(notebookContainer, {childList: true});\n",
              "}}\n",
              "\n",
              "// Listen for the clearing of the current output cell\n",
              "var outputEl = gd.closest('.output');\n",
              "if (outputEl) {{\n",
              "    x.observe(outputEl, {childList: true});\n",
              "}}\n",
              "\n",
              "                        })                };                            </script>        </div>\n",
              "</body>\n",
              "</html>"
            ]
          },
          "metadata": {}
        }
      ]
    },
    {
      "cell_type": "code",
      "source": [],
      "metadata": {
        "id": "8HphW52EX7kK"
      },
      "execution_count": null,
      "outputs": []
    }
  ]
}